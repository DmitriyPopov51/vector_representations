{
 "cells": [
  {
   "cell_type": "code",
   "execution_count": null,
   "id": "94e01f2f",
   "metadata": {
    "scrolled": false
   },
   "outputs": [],
   "source": [
    "# выбор видеокарты\n",
    "# оставляет видимой только одну GPU \n",
    "import os\n",
    "os.environ['CUDA_VISIBLE_DEVICES'] = '1'\n",
    "\n",
    "import torch\n",
    "# проверка на количество видеокарт (если 1 то все ок, если 2 то надо смотреть)\n",
    "print('CUDA_VISIBLE_DEVICES', torch.cuda.device_count())\n",
    "print('CURRENT DEVICE', torch.cuda.current_device())\n",
    "print('____________________________')"
   ]
  },
  {
   "cell_type": "code",
   "execution_count": null,
   "id": "1c886b4c",
   "metadata": {},
   "outputs": [],
   "source": [
    "print(torch.cuda.memory_summary())"
   ]
  },
  {
   "cell_type": "code",
   "execution_count": null,
   "id": "753cac3d",
   "metadata": {},
   "outputs": [],
   "source": [
    "import torch\n",
    "\n",
    "from sentence_transformers import SentenceTransformer\n",
    "from nltk.tokenize import sent_tokenize\n",
    "\n",
    "from sentence_transformers import SentenceTransformer, InputExample, losses\n",
    "from torch.utils.data import DataLoader\n",
    "\n",
    "import pandas as pd"
   ]
  },
  {
   "cell_type": "code",
   "execution_count": null,
   "id": "280a35fc",
   "metadata": {},
   "outputs": [],
   "source": [
    "# CPU or GPU\n",
    "usegpu = True"
   ]
  },
  {
   "cell_type": "code",
   "execution_count": null,
   "id": "81046ddd",
   "metadata": {},
   "outputs": [],
   "source": [
    "# model = SentenceTransformer('paraphrase-MiniLM-L6-v2', device='cuda')\n",
    "# model = SentenceTransformer('all-MiniLM-L6-v2', device='cuda')\n",
    "model = SentenceTransformer('paraphrase-MiniLM-L3-v2', device='cuda')\n"
   ]
  },
  {
   "cell_type": "code",
   "execution_count": null,
   "id": "9e5f09e8",
   "metadata": {},
   "outputs": [],
   "source": []
  },
  {
   "cell_type": "code",
   "execution_count": null,
   "id": "3062d2f1",
   "metadata": {},
   "outputs": [],
   "source": [
    "# открыть файл\n",
    "# id - id файла\n",
    "# folder - путь к папке ('text')\n",
    "# на ВЫХОД:\n",
    "# text_in_string текст в формате строки\n",
    "def open_file(d_id, folder):\n",
    "    path = folder + '/' + str(d_id) + '.txt'\n",
    "    text_file = open(path,'r')\n",
    "    text_in_string = text_file.read()\n",
    "    text_file.close()\n",
    "    return text_in_string"
   ]
  },
  {
   "cell_type": "code",
   "execution_count": null,
   "id": "9a628702",
   "metadata": {},
   "outputs": [],
   "source": [
    "# amount_label - сколько экземпляров 0 и сколько экземпляров 1 надо добавить в тренировочную базу\n",
    "def create_data_for_training_sbert(path_dev_file, texts_folder, amount_label):\n",
    "    df = pd.read_csv(path_dev_file)\n",
    "    df0 = df[df['label'] == 0]\n",
    "    df1 = df[df['label'] == 1]\n",
    "    train_examples = []\n",
    "    print(\"Text preprocessing\")\n",
    "    counter = 0\n",
    "    for i in range(0, len(df0), len(df0)//amount_label):\n",
    "        if len(train_examples) >= amount_label:\n",
    "            break\n",
    "        doc_id_1 = df0.take([i]).values[0][0] #doc_id_1\n",
    "        doc_id_2 = df0.take([i]).values[0][2] #doc_id_2\n",
    "        label1 = df0.take([i]).values[0][4] #label\n",
    "        \n",
    "        text1 = open_file(doc_id_1, texts_folder)\n",
    "\n",
    "        text2 = open_file(doc_id_2, texts_folder)\n",
    "        \n",
    "        elem = InputExample(texts=[text1, text2], label=float(label1))\n",
    "\n",
    "        train_examples.append(elem)\n",
    "        \n",
    "        counter += 1\n",
    "        print('\\r', 'iter... {} / {}'.format(str(counter), amount_label*2), end='          ')\n",
    "        \n",
    "    \n",
    "    for i in range(0, len(df1), len(df1)//amount_label):\n",
    "        if len(train_examples) >= amount_label*2:\n",
    "            break\n",
    "        doc_id_1 = df1.take([i]).values[0][0] #doc_id_1\n",
    "        doc_id_2 = df1.take([i]).values[0][2] #doc_id_2\n",
    "        label1 = df1.take([i]).values[0][4] #label\n",
    "        \n",
    "        text1 = open_file(doc_id_1, texts_folder)\n",
    "\n",
    "        text2 = open_file(doc_id_2, texts_folder)\n",
    "        \n",
    "        elem = InputExample(texts=[text1, text2], label=float(label1))\n",
    "\n",
    "        train_examples.append(elem)\n",
    "\n",
    "        counter += 1\n",
    "        print('\\r', 'iter... {} / {}'.format(str(counter), amount_label*2), end='          ')\n",
    "    \n",
    "    train_dataloader = DataLoader(train_examples, shuffle=True, batch_size=16)\n",
    "    \n",
    "    return train_dataloader"
   ]
  },
  {
   "cell_type": "markdown",
   "id": "78546c6e",
   "metadata": {},
   "source": [
    "### Предобработка"
   ]
  },
  {
   "cell_type": "code",
   "execution_count": null,
   "id": "9b737286",
   "metadata": {
    "scrolled": true
   },
   "outputs": [],
   "source": [
    "# dataset_v1\n",
    "# path_dev_file = '../data/dataset_v1/dev.csv'\n",
    "# path_train_file = '../data/dataset_v1/train.csv'\n",
    "# texts_folder = '../data/dataset_v1/text'\n",
    "\n",
    "# SimRuWiki\n",
    "# path_dev_file = '../data/SimRuWiki/dev.csv'\n",
    "# path_train_file = '../data/SimRuWiki/train.csv'\n",
    "# texts_folder = '../data/SimRuWiki/texts'\n",
    "\n",
    "# SimEnWiki\n",
    "path_dev_file = '../data/SimEnWiki/dev.csv'\n",
    "path_train_file = '../data/SimEnWiki/train.csv'\n",
    "texts_folder = '../data/SimEnWiki/texts'\n",
    "\n",
    "# dev_df = pd.read_csv(path_dev_file)\n",
    "# train_dl = create_data_for_training(path_train_file, texts_folder)\n",
    "# train_dl = create_data_for_training(path_dev_file, texts_folder)\n",
    "\n",
    "amount_label = 25000\n",
    "train_dl = create_data_for_training_sbert(path_train_file, texts_folder, amount_label)\n",
    "# train_dl = create_data_for_training1(path_train_file, texts_folder, amount_label)"
   ]
  },
  {
   "cell_type": "code",
   "execution_count": null,
   "id": "24aa8de7",
   "metadata": {},
   "outputs": [],
   "source": [
    "len(train_dl)\n",
    "# количество экземпляров / количество батчей"
   ]
  },
  {
   "cell_type": "code",
   "execution_count": null,
   "id": "b907a82a",
   "metadata": {},
   "outputs": [],
   "source": [
    "type(train_dl)"
   ]
  },
  {
   "cell_type": "code",
   "execution_count": null,
   "id": "fde3af50",
   "metadata": {},
   "outputs": [],
   "source": [
    "train_loss = losses.CosineSimilarityLoss(model)"
   ]
  },
  {
   "cell_type": "code",
   "execution_count": null,
   "id": "22f4a869",
   "metadata": {},
   "outputs": [],
   "source": [
    "num_epoch = 3\n",
    "warmup_steps = 100\n",
    "model_save_path = '../models/sbert-50000-epoch3-batch16-warmupcosine-model3'"
   ]
  },
  {
   "cell_type": "code",
   "execution_count": null,
   "id": "326404f5",
   "metadata": {
    "scrolled": true
   },
   "outputs": [],
   "source": [
    "model.fit(train_objectives=[(train_dl, train_loss)],\n",
    "          epochs=num_epoch, \n",
    "          scheduler='warmupcosine',\n",
    "          warmup_steps=warmup_steps,\n",
    "          output_path=model_save_path)"
   ]
  },
  {
   "cell_type": "code",
   "execution_count": null,
   "id": "cf7638df",
   "metadata": {},
   "outputs": [],
   "source": [
    "model = SentenceTransformer('/workspace/src/models/sbert-50000-epoch3-batch16-warmupcosine-model3', device='cuda')"
   ]
  },
  {
   "cell_type": "code",
   "execution_count": null,
   "id": "27a253de",
   "metadata": {},
   "outputs": [],
   "source": [
    "# SimRuWiki\n",
    "path_dev_file = '../data/SimRuWiki/dev.csv'\n",
    "path_train_file = '../data/SimRuWiki/train.csv'\n",
    "texts_folder = '../data/SimRuWiki/texts'"
   ]
  },
  {
   "cell_type": "code",
   "execution_count": null,
   "id": "6f0e3e17",
   "metadata": {},
   "outputs": [],
   "source": [
    "amount_label = 25000\n",
    "train_dl = create_data_for_training_sbert(path_train_file, texts_folder, amount_label)"
   ]
  },
  {
   "cell_type": "code",
   "execution_count": null,
   "id": "ae5260f2",
   "metadata": {},
   "outputs": [],
   "source": [
    "len(train_dl)"
   ]
  },
  {
   "cell_type": "code",
   "execution_count": null,
   "id": "9b9c8f83",
   "metadata": {},
   "outputs": [],
   "source": [
    "train_loss = losses.CosineSimilarityLoss(model)"
   ]
  },
  {
   "cell_type": "code",
   "execution_count": null,
   "id": "f9b8b2db",
   "metadata": {},
   "outputs": [],
   "source": [
    "num_epoch = 3\n",
    "warmup_steps = 100\n",
    "model_save_path = '../models/sbert-50000en-50000ru-epoch3-batch16-warmupcosine-model3'"
   ]
  },
  {
   "cell_type": "code",
   "execution_count": null,
   "id": "aa865e2f",
   "metadata": {},
   "outputs": [],
   "source": [
    "model.fit(train_objectives=[(train_dl, train_loss)],\n",
    "          epochs=num_epoch, \n",
    "          scheduler='warmupcosine',\n",
    "          warmup_steps=warmup_steps,\n",
    "          output_path=model_save_path)"
   ]
  }
 ],
 "metadata": {
  "kernelspec": {
   "display_name": "Python 3",
   "language": "python",
   "name": "python3"
  },
  "language_info": {
   "codemirror_mode": {
    "name": "ipython",
    "version": 3
   },
   "file_extension": ".py",
   "mimetype": "text/x-python",
   "name": "python",
   "nbconvert_exporter": "python",
   "pygments_lexer": "ipython3",
   "version": "3.9.2"
  }
 },
 "nbformat": 4,
 "nbformat_minor": 5
}
